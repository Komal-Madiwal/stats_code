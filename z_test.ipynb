{
 "cells": [
  {
   "cell_type": "code",
   "execution_count": 10,
   "metadata": {},
   "outputs": [
    {
     "name": "stdout",
     "output_type": "stream",
     "text": [
      "Z-score: 1.885618083164127\n",
      "Critical Z-value: 1.6448536269514722\n",
      "Z-test result: Reject the null hypothesis\n"
     ]
    }
   ],
   "source": [
    "\n",
    "##importing modules\n",
    "import numpy as np\n",
    "import scipy.stats as stats\n",
    "\n",
    "\n",
    "alpha=0.05\n",
    "confidence_interval = 1-alpha\n",
    "\n",
    "\n",
    "## defining the function\n",
    "def calc_z_test(sample_mean, population_deviation, population_mean, sample_size):\n",
    "    # Calculate z_score\n",
    "    z_score = (sample_mean - population_mean) / (population_deviation / np.sqrt(sample_size))\n",
    "    ## calc critical_value from z table11\n",
    "    z_critical = stats.norm.ppf(confidence_interval)\n",
    "\n",
    "    # Condition\n",
    "    if z_score > z_critical:\n",
    "        result = \"Reject the null hypothesis\"\n",
    "    else:\n",
    "        result = \"Fail to reject the null hypothesis\"\n",
    "\n",
    "    return z_score, z_critical, result\n",
    "\n",
    "# parameters\n",
    "sample_mean = 110\n",
    "population_deviation = 15\n",
    "population_mean = 100\n",
    "sample_size = 8\n",
    "\n",
    "\n",
    "## calling the function\n",
    "z_score, z_critical, result = calc_z_test(sample_mean, population_deviation, population_mean, sample_size)\n",
    "\n",
    "\n",
    "##printing \n",
    "print(\"Z-score:\", z_score)\n",
    "print(\"Critical Z-value:\", z_critical)\n",
    "print(\"Z-test result:\", result)\n",
    "\n",
    "\n",
    "\n"
   ]
  },
  {
   "cell_type": "code",
   "execution_count": null,
   "metadata": {},
   "outputs": [],
   "source": []
  }
 ],
 "metadata": {
  "kernelspec": {
   "display_name": "Python 3",
   "language": "python",
   "name": "python3"
  },
  "language_info": {
   "codemirror_mode": {
    "name": "ipython",
    "version": 3
   },
   "file_extension": ".py",
   "mimetype": "text/x-python",
   "name": "python",
   "nbconvert_exporter": "python",
   "pygments_lexer": "ipython3",
   "version": "3.10.6"
  },
  "orig_nbformat": 4
 },
 "nbformat": 4,
 "nbformat_minor": 2
}
