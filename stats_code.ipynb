{
 "cells": [
  {
   "cell_type": "code",
   "execution_count": 18,
   "metadata": {},
   "outputs": [
    {
     "name": "stdout",
     "output_type": "stream",
     "text": [
      "Population std deviation  31.240998703626616\n"
     ]
    }
   ],
   "source": [
    "## defining function for calculating population std deviation \n",
    "\n",
    "import math ##math module, which provides mathematical functions like square root (math.sqrt) that are used in the standard deviation calculation.\n",
    "\n",
    "data = [11, 34, 88, 90, 23, 10, 45] ## this is my data\n",
    "\n",
    "def cal_std_deviation(data):  ##function takes a list of data as its input.\n",
    "\n",
    "    ##Calculate the population mean (μ)\n",
    "    N=len(data)\n",
    "    mu=sum(data)/N\n",
    "    \n",
    "\n",
    "    ##Calculate the population variance\n",
    "    population_variance=[(x-mu)**2 for x in data]\n",
    "    pop_variance=sum(population_variance)/N\n",
    "    ##Calculate the population standard deviation\n",
    "    std_deviation=math.sqrt(pop_variance)\n",
    "    return std_deviation\n",
    "\n",
    "\n",
    "##calling the function\n",
    "population_std_deviation_result=cal_std_deviation(data)\n",
    "\n",
    "print(\"Population std deviation \",population_std_deviation_result)\n",
    "\n"
   ]
  },
  {
   "cell_type": "code",
   "execution_count": 19,
   "metadata": {},
   "outputs": [
    {
     "name": "stdout",
     "output_type": "stream",
     "text": [
      "Population std deviation  31.240998703626616\n"
     ]
    }
   ],
   "source": [
    "### let's confirm above result with NumPy module \n",
    "import numpy as np\n",
    "\n",
    "population_std_deviation=np.std(data)\n",
    "\n",
    "print(\"Population std deviation \",population_std_deviation)"
   ]
  },
  {
   "cell_type": "code",
   "execution_count": 4,
   "metadata": {},
   "outputs": [
    {
     "name": "stdout",
     "output_type": "stream",
     "text": [
      "Sample Standard Deviation: 33.7441352929167\n"
     ]
    }
   ],
   "source": [
    "##  defining function for calculating sample std deviation \n",
    "\n",
    "import math  ##math module, which provides mathematical functions like square root (math.sqrt) that are used in the standard deviation calculation.\n",
    "\n",
    "data = [11, 34, 88, 90, 23, 10, 45] ## this is my data\n",
    "\n",
    "\n",
    "def cal_sample_std_deviation(data): ##function takes a list of data as its input.\n",
    "\n",
    "    ## calc mean\n",
    "    N=len(data)\n",
    "    mu=sum(data)/N\n",
    "   \n",
    "    ##Calculate the sample variance\n",
    "    sample_variance=[(x-mu)**2 for x in data]\n",
    "    variance=sum(sample_variance)/(N-1) ## use N-1 for sample std deviation\n",
    "    sample_std_deviation=math.sqrt(variance)\n",
    "    return sample_std_deviation\n",
    "\n",
    "## calculate sample std deviation\n",
    "\n",
    "sample_std_dev = cal_sample_std_deviation(data)\n",
    "print(\"Sample Standard Deviation:\", sample_std_dev)\n",
    "\n"
   ]
  },
  {
   "cell_type": "code",
   "execution_count": 5,
   "metadata": {},
   "outputs": [
    {
     "name": "stdout",
     "output_type": "stream",
     "text": [
      "Sample Standard Deviation: 33.7441352929167\n"
     ]
    }
   ],
   "source": [
    "### let's confirm above result with NumPy module \n",
    "import numpy as np\n",
    "sample_std_deviation = np.std(data, ddof=1) ##ddof = Delta Degrees of Freedom for calculating sample std deviation\n",
    "\n",
    "print(\"Sample Standard Deviation:\", sample_std_deviation)"
   ]
  },
  {
   "cell_type": "code",
   "execution_count": 24,
   "metadata": {},
   "outputs": [
    {
     "name": "stdout",
     "output_type": "stream",
     "text": [
      "population_MAD 26.857142857142858\n"
     ]
    }
   ],
   "source": [
    "## calc population MAD (mean absolute deviation)\n",
    "\n",
    "data = [11, 34, 88, 90, 23, 10, 45]\n",
    "def cal_population_mad(data): ##This line defines a function called cal_population_mad(), which takes an array of data as input and returns the sample MAD as output.\n",
    "    \n",
    "    ## calculate mean\n",
    "    N=len(data)\n",
    "    mu=sum(data)/N\n",
    "\n",
    "    # Calculate absolute deviations from the mean\n",
    "    absolute_diff =[abs(x-mu) for x in data]\n",
    "    mad=sum(absolute_diff)/N\n",
    "    return mad\n",
    "\n",
    "##calling the function\n",
    "result=cal_population_mad(data)\n",
    "print(\"population_MAD\", result)"
   ]
  },
  {
   "cell_type": "code",
   "execution_count": 21,
   "metadata": {},
   "outputs": [],
   "source": [
    "\n",
    "### let's confirm above result with NumPy module \n",
    "import numpy as np\n",
    "## calc mean\n",
    "mean = np.mean(data)\n",
    "\n",
    "# Calculate absolute deviations from the mean\n",
    "abs_deviations = np.abs(data - mean)\n",
    "\n",
    "# Calculate MAD (Mean Absolute Deviation)\n",
    "mad = np.mean(abs_deviations)\n"
   ]
  },
  {
   "cell_type": "code",
   "execution_count": 7,
   "metadata": {},
   "outputs": [
    {
     "data": {
      "text/plain": [
       "26.857142857142858"
      ]
     },
     "execution_count": 7,
     "metadata": {},
     "output_type": "execute_result"
    }
   ],
   "source": [
    "mad"
   ]
  },
  {
   "cell_type": "code",
   "execution_count": 22,
   "metadata": {},
   "outputs": [
    {
     "name": "stdout",
     "output_type": "stream",
     "text": [
      "Sample Mean Absolute Deviation (MAD): 31.333333333333332\n"
     ]
    }
   ],
   "source": [
    "## calulate sample MAD\n",
    "\n",
    "data = [11, 34, 88, 90, 23, 10, 45]\n",
    "def cal_sample_mad(data): ##This line defines a function called cal_sample_mad(), which takes an array of data as input and returns the sample MAD as output.\n",
    "    \n",
    "    ## calculate mean\n",
    "    N=len(data)\n",
    "    mu=sum(data)/N\n",
    "\n",
    "    ## calculates the absolute deviations from the sample mean for each value in the data \n",
    "    sample_absolute_diff =[abs(x-mu) for x in data]\n",
    "\n",
    "    ## calculates the sample MAD by dividing the sum of the absolute deviations by the number of values in the data array minus one.\n",
    "    sample_mad=sum(sample_absolute_diff)/(N-1) \n",
    "\n",
    "    return sample_mad\n",
    "\n",
    "##calling the function\n",
    "sample_mad_result = cal_sample_mad(data)\n",
    "print(\"Sample Mean Absolute Deviation (MAD):\", sample_mad_result)"
   ]
  },
  {
   "cell_type": "code",
   "execution_count": 23,
   "metadata": {},
   "outputs": [
    {
     "name": "stdout",
     "output_type": "stream",
     "text": [
      "Sample Mean Absolute Deviation (MAD): 31.333333333333332\n"
     ]
    }
   ],
   "source": [
    "import numpy as np\n",
    "\n",
    "\n",
    "# Calculate the sample mean\n",
    "sample_mean = np.mean(data)\n",
    "\n",
    "# Calculate absolute deviations from the sample mean\n",
    "abs_deviations = np.abs(data - sample_mean)\n",
    "\n",
    "# Calculate the sample MAD (Mean Absolute Deviation) with (N - 1) in the denominator\n",
    "sample_mad = np.sum(abs_deviations) / (len(data) - 1)\n",
    "\n",
    "print(\"Sample Mean Absolute Deviation (MAD):\", sample_mad)\n"
   ]
  },
  {
   "cell_type": "code",
   "execution_count": null,
   "metadata": {},
   "outputs": [],
   "source": []
  }
 ],
 "metadata": {
  "kernelspec": {
   "display_name": "Python 3",
   "language": "python",
   "name": "python3"
  },
  "language_info": {
   "codemirror_mode": {
    "name": "ipython",
    "version": 3
   },
   "file_extension": ".py",
   "mimetype": "text/x-python",
   "name": "python",
   "nbconvert_exporter": "python",
   "pygments_lexer": "ipython3",
   "version": "3.10.6"
  },
  "orig_nbformat": 4
 },
 "nbformat": 4,
 "nbformat_minor": 2
}
